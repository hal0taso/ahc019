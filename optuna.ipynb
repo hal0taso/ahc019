{
 "cells": [
  {
   "cell_type": "code",
   "execution_count": null,
   "id": "a5f9c91d-b391-43ae-b3c5-39532c4e081c",
   "metadata": {
    "tags": []
   },
   "outputs": [],
   "source": [
    "import pandas as pd\n",
    "import optuna\n",
    "import polars as pl\n",
    "import sys\n",
    "sys.setrecursionlimit(10**7) # 再起回数の設定\n",
    "from pathlib import Path\n",
    "import subprocess\n",
    "from joblib import Parallel, delayed\n",
    "from matplotlib import pyplot\n",
    "import seaborn as sns\n",
    "from tqdm.notebook import tqdm as tqdm\n",
    "import numpy as np"
   ]
  },
  {
   "cell_type": "code",
   "execution_count": null,
   "id": "1d9c91f1-9797-4a9f-a628-6706bfa7a704",
   "metadata": {
    "tags": []
   },
   "outputs": [],
   "source": [
    "import os"
   ]
  },
  {
   "cell_type": "code",
   "execution_count": null,
   "id": "d944f6b5-e70f-4ad2-9919-cc9ae1c18990",
   "metadata": {
    "tags": []
   },
   "outputs": [],
   "source": [
    "inbound = Path('./in')\n",
    "outbound = Path('./out')"
   ]
  },
  {
   "cell_type": "code",
   "execution_count": null,
   "id": "dadd2a8c-c967-4cc6-8688-f66acd0715fa",
   "metadata": {
    "tags": []
   },
   "outputs": [],
   "source": [
    "def test(command, inbound, i):\n",
    "    result = subprocess.run(f\"{command} < {inbound}/{i:04d}.txt\", \n",
    "            shell=True, # コマンドを文字列で渡すオプション\n",
    "            cwd=\".\", # カレントワーキングディレクトリ、コマンドを実行するディレクトリ\n",
    "            capture_output=True, # 実行結果をresultに代入する\n",
    "            text=True # 実行結果を文字列で渡す)\n",
    "        )\n",
    "        # proc = subprocess.Popen(f\"{command} {inbound}/{i:04d}.txta {outbound}/{i:04d}.txt\", shell=True, cwd='.')\n",
    "    score = int(result.stdout.split()[-1]) # 大抵、標準出力の一番最後にスコアが出力される\n",
    "    return score\n",
    "        \n",
    "\n",
    "def investigate(s_ss, e_ss, bw, md, thr,  l=100, inbound='in', outbound='out'):\n",
    "\n",
    "    command = f\"./test {s_ss[0]} {s_ss[1]} {e_ss[0]} {e_ss[1]} {bw[0]} {bw[1]} {md[0]} {md[1]} {thr}\"\n",
    "        # command = \"cargo run --release --bin vis\"\n",
    "    # ↑いつものAHCのビジュアライザを使う場合\n",
    "    res = []\n",
    "    for i in tqdm(range(l)):\n",
    "        res.append(test(command, inbound, i))\n",
    "    return np.mean(res)\n"
   ]
  },
  {
   "cell_type": "code",
   "execution_count": null,
   "id": "88309618-dbb0-453d-a457-98fb7f2446dc",
   "metadata": {
    "tags": []
   },
   "outputs": [],
   "source": [
    "def objective(trial):\n",
    "    s_ss_s = trial.suggest_int(\"s_ss_s\", 1, 20)\n",
    "    s_ss_e = trial.suggest_int(\"s_ss_e\", 1, 20)\n",
    "    e_ss_s = trial.suggest_int(\"e_ss_s\", 1, 20)\n",
    "    e_ss_e = trial.suggest_int(\"e_ss_e\", 1, 20)\n",
    "    bw_s = trial.suggest_int(\"bw_s\", 1, 20)\n",
    "    bw_e = trial.suggest_int(\"bw_e\", 1, 20)\n",
    "    md_s = trial.suggest_int(\"md_s\", 1, 20)\n",
    "    md_e = trial.suggest_int(\"md_e\", 1, 20)\n",
    "    thr = trial.suggest_int(\"thr\", 5, 14)\n",
    "    ret = investigate((s_ss_s, s_ss_e), (e_ss_s, e_ss_e), (bw_s, bw_e), (md_s, md_e), thr)\n",
    "    return ret"
   ]
  },
  {
   "cell_type": "code",
   "execution_count": null,
   "id": "1f1bd706-4962-45eb-9895-ba1c114b4f05",
   "metadata": {},
   "outputs": [],
   "source": [
    "study = optuna.create_study(\n",
    "    study_name=\"f_study\",\n",
    "    direction=\"minimize\",\n",
    "    storage=\"sqlite:///./f_study.db\"\n",
    ")"
   ]
  },
  {
   "cell_type": "code",
   "execution_count": null,
   "id": "d94fcbcd-f5c5-4c75-a6df-9bd157d8d96e",
   "metadata": {
    "tags": []
   },
   "outputs": [],
   "source": [
    "def run():\n",
    "    study = optuna.load_study(\n",
    "        study_name=\"f_study\",\n",
    "        storage=\"sqlite:///./f_study.db\",\n",
    "    )\n",
    "    study.optimize(objective, n_trials=50)\n",
    "    return os.getpid()"
   ]
  },
  {
   "cell_type": "code",
   "execution_count": null,
   "id": "f3bc0329-ceea-4cfc-8328-ff008cf55849",
   "metadata": {
    "tags": []
   },
   "outputs": [],
   "source": [
    "# joblibでプロセス並列化\n",
    "process_ids = Parallel(n_jobs=4)([delayed(run)() for _ in range(6)])\n",
    "print(process_ids)  # [14937, 14938]\n"
   ]
  },
  {
   "cell_type": "code",
   "execution_count": null,
   "id": "4b7a51e7-fde8-4bbc-8b75-ad570283c810",
   "metadata": {
    "tags": []
   },
   "outputs": [],
   "source": [
    "study = optuna.load_study(\n",
    "    study_name=\"f_study\",\n",
    "    storage=\"sqlite:///./f_study.db\",\n",
    ")"
   ]
  },
  {
   "cell_type": "code",
   "execution_count": null,
   "id": "c52aa7ca-9736-4201-a26a-f5d788e7a09b",
   "metadata": {},
   "outputs": [],
   "source": [
    "print(study.best_params)  # x, yの最適な値\n",
    "print(study.best_value)  #  zの最適値\n",
    "print(study.best_trial)  # x, y, zの最適値"
   ]
  },
  {
   "cell_type": "code",
   "execution_count": null,
   "id": "5b06fca4-397e-4408-b6cd-229390968d3a",
   "metadata": {},
   "outputs": [],
   "source": [
    "optuna.visualization.plot_contour(study)"
   ]
  },
  {
   "cell_type": "code",
   "execution_count": null,
   "id": "a4255b2f-d39a-47d4-a76d-76be291a6f92",
   "metadata": {
    "tags": []
   },
   "outputs": [],
   "source": [
    "optuna.visualization.plot_param_importances(study)"
   ]
  },
  {
   "cell_type": "code",
   "execution_count": null,
   "id": "97064f91-d07d-478c-9272-5010cdc2853c",
   "metadata": {},
   "outputs": [],
   "source": [
    "optuna.visualization.plot_optimization_history(study)"
   ]
  },
  {
   "cell_type": "code",
   "execution_count": null,
   "id": "f03e4a6f-5795-4bbb-9d2a-830a426dc3ff",
   "metadata": {
    "tags": []
   },
   "outputs": [],
   "source": [
    "optuna.visualization.plot_contour(study, params=[\"s_ss_s\",\"e_ss_s\",\"bw_s\",\"md_s\"])"
   ]
  },
  {
   "cell_type": "code",
   "execution_count": null,
   "id": "dc718fd0-3f8d-4b4c-8c4b-14ea2461feb7",
   "metadata": {},
   "outputs": [],
   "source": []
  }
 ],
 "metadata": {
  "kernelspec": {
   "display_name": "Python 3 (ipykernel)",
   "language": "python",
   "name": "python3"
  },
  "language_info": {
   "codemirror_mode": {
    "name": "ipython",
    "version": 3
   },
   "file_extension": ".py",
   "mimetype": "text/x-python",
   "name": "python",
   "nbconvert_exporter": "python",
   "pygments_lexer": "ipython3",
   "version": "3.10.9"
  }
 },
 "nbformat": 4,
 "nbformat_minor": 5
}
